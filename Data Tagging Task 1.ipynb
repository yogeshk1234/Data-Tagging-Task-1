{
 "cells": [
  {
   "cell_type": "markdown",
   "id": "5edc356d",
   "metadata": {},
   "source": [
    "# To Complete Task 1, Here's The Process we can Follow:\n",
    "\n"
   ]
  },
  {
   "cell_type": "markdown",
   "id": "96c296b1",
   "metadata": {},
   "source": [
    "#  Easy Steps:\n",
    "\n",
    "  1. Look at the Data:\n",
    "  \n",
    "     i. We have columns like Complaint, Cause, and Correction.\n",
    "     \n",
    "     ii. We need to create tags (like labels) for the columns Root Cause, Symptom Condition, and Fix Condition.\n",
    "     \n",
    " 2. Simple Rules for Tagging:\n",
    "  \n",
    "     i. If the Cause has words like \"not tighten\", tag it is \" Not Tightened\".\n",
    "     \n",
    "     ii. If the Complaint mentioned \"losse\", tag it as \"Loose\".\n",
    "     \n",
    "     iii. If the Correction says \"retighten\", tag it as \"Retightened\".\n",
    "     \n",
    "     \n",
    "  3. Save the Tagged Data:\n",
    "  \n",
    "     i. We'll save the updated data in a new file.\n",
    "     \n",
    "     \n",
    "  \n",
    "\n",
    "        "
   ]
  },
  {
   "cell_type": "markdown",
   "id": "3f8c04c5",
   "metadata": {},
   "source": [
    "# Lets Start "
   ]
  },
  {
   "cell_type": "code",
   "execution_count": 10,
   "id": "f80aa71f",
   "metadata": {},
   "outputs": [],
   "source": [
    "import pandas as pd\n",
    "\n",
    "data=pd.read_csv(\"Copy of Task 1 - Task.csv\")"
   ]
  },
  {
   "cell_type": "code",
   "execution_count": 11,
   "id": "53d4e612",
   "metadata": {},
   "outputs": [],
   "source": [
    "# Step 1:  Define logic for tagging\n",
    "\n",
    "def tag_root_cause(cause):\n",
    "    if \"not tighten\" in cause.lower():\n",
    "        return \"Not Tightened\"\n",
    "    elif \"not installed\" in cause.lower():\n",
    "        return \"Not Installed\"\n",
    "    elif \"missing\" in cause.lower():\n",
    "        return \"Missing Part\"\n",
    "    else:\n",
    "        return \"Other\""
   ]
  },
  {
   "cell_type": "code",
   "execution_count": 12,
   "id": "7564ad1d",
   "metadata": {},
   "outputs": [],
   "source": [
    "def tag_symptom_condition(complaint):\n",
    "    if \"losse\" in complaint.lower():\n",
    "        return \"Loose\"\n",
    "    elif \"not stay open\" in complaint.lower():\n",
    "        return \"Won't Stay Open\"\n",
    "    elif \"crushed\" in complaint.lower():\n",
    "        return \"Crushed\"\n",
    "    else:\n",
    "        return \"Unknown\"\n",
    "    "
   ]
  },
  {
   "cell_type": "code",
   "execution_count": 13,
   "id": "eca85343",
   "metadata": {},
   "outputs": [],
   "source": [
    "def tag_fix_condition(correction):\n",
    "    if \"retighten\" in correction.lower():\n",
    "        return \"Retightened\"\n",
    "    elif \"installed\" in correction.lower():\n",
    "        return \"Installed\"\n",
    "    elif \"replace\" in correction.lower():\n",
    "        return \"Replaced\"\n",
    "    else:\n",
    "        return \"Other\""
   ]
  },
  {
   "cell_type": "code",
   "execution_count": 14,
   "id": "576bf73f",
   "metadata": {},
   "outputs": [],
   "source": [
    "# Step 2: Apply the tagging function\n",
    "\n",
    "data['Root Cause'] = data['Cause'].apply(tag_root_cause)\n",
    "\n",
    "data['Symptom Condition 1'] = data['Complaint'].apply(tag_symptom_condition)\n",
    "\n",
    "data['Fix Condition 1'] = data['Correction'].apply(tag_fix_condition)\n",
    "    \n",
    "    \n",
    "    "
   ]
  },
  {
   "cell_type": "code",
   "execution_count": 28,
   "id": "3e077387",
   "metadata": {},
   "outputs": [],
   "source": [
    "# Step 3: Save the tagged dataset \n",
    "output_file = 'Tagged_Data.csv'\n",
    "data.to_csv(output_file, index=False)"
   ]
  },
  {
   "cell_type": "markdown",
   "id": "5cfcb94f",
   "metadata": {},
   "source": [
    "# Summary Report\n",
    "\n",
    "1. Tagging Approach:\n",
    "    \n",
    "    - 'Root Cause': Logical mapping from the 'Cause' column using keywords.\n",
    "    - 'Symptom Condition': Mapped from 'Complaint' text.\n",
    "    - 'Fix Condition' : Derived from 'Correction' action.\n",
    "        \n",
    "2. Insights:\n",
    "    \n",
    "    - Identifying recurring issues like 'Loose components' and 'Missing Parts'\n",
    "    - Tagging logic can be scaled for larger datasets to find trends in failures and fixes.\n",
    "    \n",
    "3. Output: \n",
    "    - Tagged dataset saved as CSV."
   ]
  },
  {
   "cell_type": "markdown",
   "id": "537db46d",
   "metadata": {},
   "source": []
  }
 ],
 "metadata": {
  "kernelspec": {
   "display_name": "Python 3 (ipykernel)",
   "language": "python",
   "name": "python3"
  },
  "language_info": {
   "codemirror_mode": {
    "name": "ipython",
    "version": 3
   },
   "file_extension": ".py",
   "mimetype": "text/x-python",
   "name": "python",
   "nbconvert_exporter": "python",
   "pygments_lexer": "ipython3",
   "version": "3.11.5"
  }
 },
 "nbformat": 4,
 "nbformat_minor": 5
}
